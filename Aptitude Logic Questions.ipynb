{
 "cells": [
  {
   "cell_type": "markdown",
   "id": "92a7dcb7-ff77-42cf-9a61-6934bc61f322",
   "metadata": {},
   "source": [
    "# Aptitude Questions"
   ]
  },
  {
   "cell_type": "markdown",
   "id": "766e2385-2bf4-4112-b920-6fc9e88bc1ee",
   "metadata": {},
   "source": [
    "**1.Check the number is perfect or not.**"
   ]
  },
  {
   "cell_type": "code",
   "execution_count": 4,
   "id": "57a88836-17ba-4c4d-83fb-a677f6470924",
   "metadata": {},
   "outputs": [
    {
     "name": "stdin",
     "output_type": "stream",
     "text": [
      "Enter a number:  10\n"
     ]
    },
    {
     "name": "stdout",
     "output_type": "stream",
     "text": [
      "10 not a perfect number\n"
     ]
    }
   ],
   "source": [
    "num = int(input(\"Enter a number: \")) # take number from user\n",
    "sum = 0    # initial sum is 0\n",
    "for i in range(1, num):  # take range from 1 to given number\n",
    "    if num % i == 0:  # check the number is divisible by i ==0\n",
    "        sum += i  # then add the number\n",
    "if sum == num:  # check sum is equal to original number if yes return perfect otherwise return not perfect\n",
    "    print(f\"{num} a perfect number\")\n",
    "else:\n",
    "    print( f\"{num} not a perfect number\")"
   ]
  },
  {
   "cell_type": "markdown",
   "id": "e264a844-fc7d-401d-8ebd-279b6b8fe3a6",
   "metadata": {},
   "source": [
    "**2.Check whether a number is composite or not.**"
   ]
  },
  {
   "cell_type": "markdown",
   "id": "72c4eda5-564e-4aad-9b93-f31a4fdcc99f",
   "metadata": {},
   "source": [
    "**3.Find the face value of given number.**"
   ]
  },
  {
   "cell_type": "code",
   "execution_count": 19,
   "id": "fc3537cb-0d8e-4445-834f-e83a3382030c",
   "metadata": {},
   "outputs": [
    {
     "name": "stdin",
     "output_type": "stream",
     "text": [
      "Enter a number:  432\n",
      "Enter a digit:  4\n"
     ]
    },
    {
     "name": "stdout",
     "output_type": "stream",
     "text": [
      "Face value of 4 is 4\n"
     ]
    }
   ],
   "source": [
    "num = int(input(\"Enter a number: \")) # take number from user\n",
    "digit = int(input(\"Enter a digit: \")) # take digit to find face value\n",
    "convert_str = str(num) # it convert the digit into the string\n",
    "\n",
    "if str(digit) in convert_str: # check digit is found in number print that face value otherwise it will return digit not found\n",
    "    print(\"Face value of\", digit, \"is\", digit)\n",
    "else:\n",
    "    print(\"Digit not found in the number\")\n"
   ]
  },
  {
   "cell_type": "markdown",
   "id": "bb02ff1b-78bb-4a5e-9ba3-3f1a7c824b8b",
   "metadata": {},
   "source": [
    "**3.Find the total sum of  whole number  given by user.**"
   ]
  },
  {
   "cell_type": "code",
   "execution_count": 33,
   "id": "b40257a0-e91b-4719-9843-3739696a3f63",
   "metadata": {},
   "outputs": [
    {
     "name": "stdin",
     "output_type": "stream",
     "text": [
      "Enter the number: 5\n"
     ]
    },
    {
     "name": "stdout",
     "output_type": "stream",
     "text": [
      "The sum of whole number is 15\n"
     ]
    }
   ],
   "source": [
    "n=int(input(\"Enter the number:\"))\n",
    "#Total = n * (n + 1) // 2  # to find the sum of whole number\n",
    "#print(f\"The Sum of {n} whole number is:\",Total) \n",
    "# n=5 (0,1,2,3,4,5)\n",
    "#0+1=5,1+4=5,2+3=5 total=15\n",
    "total=0\n",
    "for i in range(0,n + 1): # define the range start from 1  upto number which we provide.\n",
    "    total +=i  # add number \n",
    "print(\"The sum of whole number is\",total)"
   ]
  },
  {
   "cell_type": "markdown",
   "id": "ad5f1ec8-83b4-43d8-97b0-9f14e368a929",
   "metadata": {},
   "source": [
    "**4.sum of Natural number.**"
   ]
  },
  {
   "cell_type": "code",
   "execution_count": 31,
   "id": "836ff722-fa4c-460d-89ed-2eec9d95dca7",
   "metadata": {},
   "outputs": [
    {
     "name": "stdin",
     "output_type": "stream",
     "text": [
      "Enter a number: 10\n"
     ]
    },
    {
     "name": "stdout",
     "output_type": "stream",
     "text": [
      "the sum of natural number is 55\n"
     ]
    }
   ],
   "source": [
    "number=int(input(\"Enter a number:\")) # take input from user\n",
    "sum=0  # intial  sum is 0\n",
    "for i in range(1,number + 1): # define the range start from 1  upto number which we provide.\n",
    "    sum +=i  # add number \n",
    " \n",
    "print(\"The sum of natural number is\",sum)"
   ]
  },
  {
   "cell_type": "markdown",
   "id": "b383e91d-53f7-426c-b21f-5165eeab76fd",
   "metadata": {},
   "source": [
    "**5.check the number is divisible by 2 and 6.**"
   ]
  },
  {
   "cell_type": "code",
   "execution_count": 40,
   "id": "f670bd7e-c89b-4602-b137-7bbfd9cf0054",
   "metadata": {},
   "outputs": [
    {
     "name": "stdin",
     "output_type": "stream",
     "text": [
      "Enter the number: 12\n"
     ]
    },
    {
     "name": "stdout",
     "output_type": "stream",
     "text": [
      "The 12 is divisible by both 2 and 6 \n"
     ]
    }
   ],
   "source": [
    "n=int(input(\"Enter the number:\"))\n",
    "if n % 2 == 0 and n % 6 == 0:\n",
    "    print(f\"The {n} is divisible by both 2 and 6 \")\n",
    "else:\n",
    "    print(\"Enter correct number\")"
   ]
  },
  {
   "cell_type": "markdown",
   "id": "5bb7c293-3ebb-415f-bb5a-2b0058ca30ff",
   "metadata": {},
   "source": [
    "**6.Find the three digit greatest number which is divisible by 4.**"
   ]
  },
  {
   "cell_type": "code",
   "execution_count": 44,
   "id": "863fa16c-12e6-43d0-a1c3-86a41848074e",
   "metadata": {},
   "outputs": [
    {
     "name": "stdin",
     "output_type": "stream",
     "text": [
      "Enter a number:  654\n"
     ]
    },
    {
     "name": "stdout",
     "output_type": "stream",
     "text": [
      "Greatest number divisible by 4: 652\n"
     ]
    }
   ],
   "source": [
    "n = int(input(\"Enter a number: \"))\n",
    "greatest_num = n - (n % 4) # it will find the greatest 3 digit number divisible by 4\n",
    "print(\"Greatest number divisible by 4:\",greatest_num )"
   ]
  },
  {
   "cell_type": "markdown",
   "id": "5f4f6c64-f872-4276-a4f9-685b9f61ba5b",
   "metadata": {},
   "source": [
    "**7.check the given number is prime or not.**"
   ]
  },
  {
   "cell_type": "code",
   "execution_count": 2,
   "id": "d86bf1f8-4368-449f-87a0-c6630003fad2",
   "metadata": {},
   "outputs": [
    {
     "name": "stdin",
     "output_type": "stream",
     "text": [
      "Enter number: 4\n"
     ]
    },
    {
     "name": "stdout",
     "output_type": "stream",
     "text": [
      "4 is not prime number\n"
     ]
    }
   ],
   "source": [
    "num=int(input(\"Enter number:\")) # take input form user\n",
    "count=0   # count initialized to 0\n",
    "for i in range(1,num+1):   # it start form 1 to num\n",
    "    if num % i==0:\n",
    "        count=count +1 # if it is divisible by i the count is increase\n",
    "if count == 2: \n",
    "    print(num,\"is prime number\")\n",
    "else:\n",
    "    print(num,\"is not prime number\")"
   ]
  },
  {
   "cell_type": "markdown",
   "id": "9cb6c20f-1d32-4350-8715-7da6a14e985c",
   "metadata": {},
   "source": [
    "**8.calculate the HCF (highest common factor) given by user.**"
   ]
  },
  {
   "cell_type": "code",
   "execution_count": 7,
   "id": "46ef2340-27c0-4ffb-88b9-e02168c2a371",
   "metadata": {},
   "outputs": [
    {
     "name": "stdin",
     "output_type": "stream",
     "text": [
      "enter the first number : 6\n",
      "enter the second number: 12\n"
     ]
    },
    {
     "name": "stdout",
     "output_type": "stream",
     "text": [
      "HCF of 6 and 12 is 6\n"
     ]
    }
   ],
   "source": [
    "num1=int(input(\"enter the first number :\"))\n",
    "num2=int(input(\"enter the second number:\"))\n",
    "x=num1\n",
    "y=num2\n",
    "while num1 != num2: # the loop iterate until both number are equal \n",
    "    if num1 > num2: # check num1 is greater than num2 \n",
    "        num1 -= num2 # then it  subtract it from num2 and strore in num1\n",
    "    else:\n",
    "        num2 -= num1 # other wise it subtract the num1 and strore in num2\n",
    "print(\"HCF of\",x,\"and\",y,\"is\",num1)\n",
    "\n",
    "# 1. num1 = 6 and num2 = 12\n",
    "#2. num1 > num2, false so num2 = 12 - 6 = 6\n",
    "# 3. Now num1 == num2"
   ]
  },
  {
   "cell_type": "markdown",
   "id": "7e25ee44-f6c1-4b75-b140-525ad3f67561",
   "metadata": {},
   "source": [
    "**9.Find the LCM(least common multiple) of given number.**"
   ]
  },
  {
   "cell_type": "markdown",
   "id": "fc40b414-397b-461a-bfe1-ef927ea1b62b",
   "metadata": {},
   "source": [
    "**10.find the co-prime(the HCF is always 1) of given number.**"
   ]
  },
  {
   "cell_type": "code",
   "execution_count": 15,
   "id": "d6dcf5ca-dc33-48b3-a632-8f64f957849d",
   "metadata": {},
   "outputs": [
    {
     "name": "stdin",
     "output_type": "stream",
     "text": [
      "Enter the first number:  7\n",
      "Enter the second number:  11\n"
     ]
    },
    {
     "name": "stdout",
     "output_type": "stream",
     "text": [
      "6 and 6 are not co-prime numbers.\n"
     ]
    }
   ],
   "source": [
    "n1 = int(input(\"Enter the first number: \"))\n",
    "n2 = int(input(\"Enter the second number: \"))\n",
    "\n",
    "a=n1\n",
    "b=n2\n",
    "\n",
    "\n",
    "\n",
    "if a == 1:\n",
    "    print(num1, \"and\", num2, \"are co-prime numbers.\")\n",
    "else:\n",
    "    print(num1, \"and\", num2, \"are not co-prime numbers.\")"
   ]
  },
  {
   "cell_type": "markdown",
   "id": "b304d3fc-063b-4003-b4ad-dab3390612c0",
   "metadata": {},
   "source": [
    "**11.Addition  and subtraction of decimal fraction number.**"
   ]
  },
  {
   "cell_type": "code",
   "execution_count": 22,
   "id": "afcd043f-bc1c-4efc-9b6f-f8196b68c6e3",
   "metadata": {},
   "outputs": [
    {
     "name": "stdin",
     "output_type": "stream",
     "text": [
      "Enter the first decimal number:  65.87\n",
      "Enter the second decimal number:  53.77\n"
     ]
    },
    {
     "name": "stdout",
     "output_type": "stream",
     "text": [
      "The sum of65.87 and 53.77 is: 119.64000000000001\n"
     ]
    },
    {
     "name": "stdin",
     "output_type": "stream",
     "text": [
      "Enter the first decimal number:  50.64\n",
      "Enter the second decimal number:  353.6\n"
     ]
    },
    {
     "name": "stdout",
     "output_type": "stream",
     "text": [
      "The subtraction of50.64 and 353.6 is: 12.100000000000001\n"
     ]
    }
   ],
   "source": [
    "# Addition of decimal fraction\n",
    "num1 = float(input(\"Enter the first decimal number: \"))\n",
    "num2 = float(input(\"Enter the second decimal number: \"))\n",
    "\n",
    "sum = num1 + num2\n",
    "print(f\"The sum of {num1} and {num2} is:\", sum)\n",
    "\n",
    "# subtraction of decimal fraction\n",
    "n1 = float(input(\"Enter the first decimal number: \"))\n",
    "n2 = float(input(\"Enter the second decimal number: \"))\n",
    "\n",
    "sub = num1 - num2\n",
    "print(f\"The subtraction of{n1} and {n2} is:\", sub)\n",
    "\n"
   ]
  },
  {
   "cell_type": "markdown",
   "id": "ccdc5a01-9864-4499-8253-b7e34a9b3623",
   "metadata": {},
   "source": [
    "**12.Multiplication of a Decimal Fraction By a Power of 10**"
   ]
  },
  {
   "cell_type": "code",
   "execution_count": 34,
   "id": "ab93fd7d-8450-4818-b029-d3c7697b6819",
   "metadata": {},
   "outputs": [
    {
     "name": "stdin",
     "output_type": "stream",
     "text": [
      "Enter a decimal number:  4.25\n"
     ]
    },
    {
     "name": "stdout",
     "output_type": "stream",
     "text": [
      "The result is: 42.5\n"
     ]
    }
   ],
   "source": [
    "num = float(input(\"Enter a decimal number: \"))\n",
    "power=10 # initialize power is 10\n",
    "result = num * power\n",
    "print(\"The result is:\", result)"
   ]
  },
  {
   "cell_type": "markdown",
   "id": "c6b4207c-ccd1-4fca-9b83-8a22d7b24173",
   "metadata": {},
   "source": [
    "**13.Find the quotient of the given number.**"
   ]
  },
  {
   "cell_type": "code",
   "execution_count": 49,
   "id": "68869748-a6cd-4063-ba1f-eb9e9ebd1a20",
   "metadata": {},
   "outputs": [
    {
     "name": "stdin",
     "output_type": "stream",
     "text": [
      "Enter the dividend number: 45\n",
      "Enter the Divisior: 3\n"
     ]
    },
    {
     "name": "stdout",
     "output_type": "stream",
     "text": [
      "The Quotient is: 15\n"
     ]
    },
    {
     "name": "stdin",
     "output_type": "stream",
     "text": [
      "Enter the dividend number: 67\n",
      "Enter the Divisior: 4\n"
     ]
    },
    {
     "name": "stdout",
     "output_type": "stream",
     "text": [
      "The Quotient is: 16.75\n"
     ]
    }
   ],
   "source": [
    "dividend=int(input(\"Enter the dividend number:\"))\n",
    "divisior=int(input(\"Enter the Divisior:\"))\n",
    "quotient= dividend // divisior  # it get integer value\n",
    "print(\"The Quotient is:\",quotient)\n",
    "\n",
    "# for float \n",
    "dividend=int(input(\"Enter the dividend number:\"))\n",
    "divisior=int(input(\"Enter the Divisior:\"))\n",
    "quotient1= dividend / divisior  # it get integer value\n",
    "print(\"The Quotient is:\",quotient1)"
   ]
  },
  {
   "cell_type": "code",
   "execution_count": null,
   "id": "f36e76e2-0fbe-4090-953d-d9ddf5804a36",
   "metadata": {},
   "outputs": [],
   "source": []
  }
 ],
 "metadata": {
  "kernelspec": {
   "display_name": "Python [conda env:base] *",
   "language": "python",
   "name": "conda-base-py"
  },
  "language_info": {
   "codemirror_mode": {
    "name": "ipython",
    "version": 3
   },
   "file_extension": ".py",
   "mimetype": "text/x-python",
   "name": "python",
   "nbconvert_exporter": "python",
   "pygments_lexer": "ipython3",
   "version": "3.12.7"
  }
 },
 "nbformat": 4,
 "nbformat_minor": 5
}
