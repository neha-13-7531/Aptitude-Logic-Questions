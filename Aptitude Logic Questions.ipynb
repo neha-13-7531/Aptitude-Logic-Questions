{
 "cells": [
  {
   "cell_type": "markdown",
   "id": "92a7dcb7-ff77-42cf-9a61-6934bc61f322",
   "metadata": {},
   "source": [
    "# Aptitude Questions"
   ]
  },
  {
   "cell_type": "markdown",
   "id": "766e2385-2bf4-4112-b920-6fc9e88bc1ee",
   "metadata": {},
   "source": [
    "**1.Check the number is perfect or not.**"
   ]
  },
  {
   "cell_type": "code",
   "execution_count": 4,
   "id": "57a88836-17ba-4c4d-83fb-a677f6470924",
   "metadata": {},
   "outputs": [
    {
     "name": "stdin",
     "output_type": "stream",
     "text": [
      "Enter a number:  10\n"
     ]
    },
    {
     "name": "stdout",
     "output_type": "stream",
     "text": [
      "10 not a perfect number\n"
     ]
    }
   ],
   "source": [
    "num = int(input(\"Enter a number: \")) # take number from user\n",
    "sum = 0    # initial sum is 0\n",
    "for i in range(1, num):  # take range from 1 to given number\n",
    "    if num % i == 0:  # check the number is divisible by i ==0\n",
    "        sum += i  # then add the number\n",
    "if sum == num:  # check sum is equal to original number if yes return perfect otherwise return not perfect\n",
    "    print(f\"{num} a perfect number\")\n",
    "else:\n",
    "    print( f\"{num} not a perfect number\")"
   ]
  },
  {
   "cell_type": "markdown",
   "id": "e264a844-fc7d-401d-8ebd-279b6b8fe3a6",
   "metadata": {},
   "source": [
    "**2.Check whether a number is composite or not.**"
   ]
  },
  {
   "cell_type": "markdown",
   "id": "72c4eda5-564e-4aad-9b93-f31a4fdcc99f",
   "metadata": {},
   "source": [
    "**3.Find the face value of given number.**"
   ]
  },
  {
   "cell_type": "code",
   "execution_count": 19,
   "id": "fc3537cb-0d8e-4445-834f-e83a3382030c",
   "metadata": {},
   "outputs": [
    {
     "name": "stdin",
     "output_type": "stream",
     "text": [
      "Enter a number:  432\n",
      "Enter a digit:  4\n"
     ]
    },
    {
     "name": "stdout",
     "output_type": "stream",
     "text": [
      "Face value of 4 is 4\n"
     ]
    }
   ],
   "source": [
    "num = int(input(\"Enter a number: \")) # take number from user\n",
    "digit = int(input(\"Enter a digit: \")) # take digit to find face value\n",
    "convert_str = str(num) # it convert the digit into the string\n",
    "\n",
    "if str(digit) in convert_str: # check digit is found in number print that face value otherwise it will return digit not found\n",
    "    print(\"Face value of\", digit, \"is\", digit)\n",
    "else:\n",
    "    print(\"Digit not found in the number\")\n"
   ]
  },
  {
   "cell_type": "markdown",
   "id": "bb02ff1b-78bb-4a5e-9ba3-3f1a7c824b8b",
   "metadata": {},
   "source": [
    "**3.Find the total sum of  whole number  given by user.**"
   ]
  },
  {
   "cell_type": "code",
   "execution_count": 33,
   "id": "b40257a0-e91b-4719-9843-3739696a3f63",
   "metadata": {},
   "outputs": [
    {
     "name": "stdin",
     "output_type": "stream",
     "text": [
      "Enter the number: 5\n"
     ]
    },
    {
     "name": "stdout",
     "output_type": "stream",
     "text": [
      "The sum of whole number is 15\n"
     ]
    }
   ],
   "source": [
    "n=int(input(\"Enter the number:\"))\n",
    "#Total = n * (n + 1) // 2  # to find the sum of whole number\n",
    "#print(f\"The Sum of {n} whole number is:\",Total) \n",
    "# n=5 (0,1,2,3,4,5)\n",
    "#0+1=5,1+4=5,2+3=5 total=15\n",
    "total=0\n",
    "for i in range(0,n + 1): # define the range start from 1  upto number which we provide.\n",
    "    total +=i  # add number \n",
    "print(\"The sum of whole number is\",total)"
   ]
  },
  {
   "cell_type": "markdown",
   "id": "ad5f1ec8-83b4-43d8-97b0-9f14e368a929",
   "metadata": {},
   "source": [
    "**4.sum of Natural number.**"
   ]
  },
  {
   "cell_type": "code",
   "execution_count": 31,
   "id": "836ff722-fa4c-460d-89ed-2eec9d95dca7",
   "metadata": {},
   "outputs": [
    {
     "name": "stdin",
     "output_type": "stream",
     "text": [
      "Enter a number: 10\n"
     ]
    },
    {
     "name": "stdout",
     "output_type": "stream",
     "text": [
      "the sum of natural number is 55\n"
     ]
    }
   ],
   "source": [
    "number=int(input(\"Enter a number:\")) # take input from user\n",
    "sum=0  # intial  sum is 0\n",
    "for i in range(1,number + 1): # define the range start from 1  upto number which we provide.\n",
    "    sum +=i  # add number \n",
    " \n",
    "print(\"The sum of natural number is\",sum)"
   ]
  },
  {
   "cell_type": "markdown",
   "id": "b383e91d-53f7-426c-b21f-5165eeab76fd",
   "metadata": {},
   "source": [
    "**5.check the number is divisible by 2 and 6.**"
   ]
  },
  {
   "cell_type": "code",
   "execution_count": 40,
   "id": "f670bd7e-c89b-4602-b137-7bbfd9cf0054",
   "metadata": {},
   "outputs": [
    {
     "name": "stdin",
     "output_type": "stream",
     "text": [
      "Enter the number: 12\n"
     ]
    },
    {
     "name": "stdout",
     "output_type": "stream",
     "text": [
      "The 12 is divisible by both 2 and 6 \n"
     ]
    }
   ],
   "source": [
    "n=int(input(\"Enter the number:\"))\n",
    "if n % 2 == 0 and n % 6 == 0:\n",
    "    print(f\"The {n} is divisible by both 2 and 6 \")\n",
    "else:\n",
    "    print(\"Enter correct number\")"
   ]
  },
  {
   "cell_type": "markdown",
   "id": "5bb7c293-3ebb-415f-bb5a-2b0058ca30ff",
   "metadata": {},
   "source": [
    "**6.Find the three digit greatest number which is divisible by 4.**"
   ]
  },
  {
   "cell_type": "code",
   "execution_count": 44,
   "id": "863fa16c-12e6-43d0-a1c3-86a41848074e",
   "metadata": {},
   "outputs": [
    {
     "name": "stdin",
     "output_type": "stream",
     "text": [
      "Enter a number:  654\n"
     ]
    },
    {
     "name": "stdout",
     "output_type": "stream",
     "text": [
      "Greatest number divisible by 4: 652\n"
     ]
    }
   ],
   "source": [
    "n = int(input(\"Enter a number: \"))\n",
    "greatest_num = n - (n % 4) # it will find the greatest 3 digit number divisible by 4\n",
    "print(\"Greatest number divisible by 4:\",greatest_num )"
   ]
  },
  {
   "cell_type": "code",
   "execution_count": null,
   "id": "a550dbbb-3acf-49d4-bb45-9d40554b3f25",
   "metadata": {},
   "outputs": [],
   "source": []
  }
 ],
 "metadata": {
  "kernelspec": {
   "display_name": "Python [conda env:base] *",
   "language": "python",
   "name": "conda-base-py"
  },
  "language_info": {
   "codemirror_mode": {
    "name": "ipython",
    "version": 3
   },
   "file_extension": ".py",
   "mimetype": "text/x-python",
   "name": "python",
   "nbconvert_exporter": "python",
   "pygments_lexer": "ipython3",
   "version": "3.12.7"
  }
 },
 "nbformat": 4,
 "nbformat_minor": 5
}
