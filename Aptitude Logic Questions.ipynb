{
 "cells": [
  {
   "cell_type": "markdown",
   "id": "92a7dcb7-ff77-42cf-9a61-6934bc61f322",
   "metadata": {},
   "source": [
    "# Aptitude Questions"
   ]
  },
  {
   "cell_type": "markdown",
   "id": "766e2385-2bf4-4112-b920-6fc9e88bc1ee",
   "metadata": {},
   "source": [
    "**1.Check the number is perfect or not.**"
   ]
  },
  {
   "cell_type": "code",
   "execution_count": 4,
   "id": "57a88836-17ba-4c4d-83fb-a677f6470924",
   "metadata": {},
   "outputs": [
    {
     "name": "stdin",
     "output_type": "stream",
     "text": [
      "Enter a number:  10\n"
     ]
    },
    {
     "name": "stdout",
     "output_type": "stream",
     "text": [
      "10 not a perfect number\n"
     ]
    }
   ],
   "source": [
    "num = int(input(\"Enter a number: \")) # take number from user\n",
    "sum = 0    # initial sum is 0\n",
    "for i in range(1, num):  # take range from 1 to given number\n",
    "    if num % i == 0:  # check the number is divisible by i ==0\n",
    "        sum += i  # then add the number\n",
    "if sum == num:  # check sum is equal to original number if yes return perfect otherwise return not perfect\n",
    "    print(f\"{num} a perfect number\")\n",
    "else:\n",
    "    print( f\"{num} not a perfect number\")"
   ]
  },
  {
   "cell_type": "markdown",
   "id": "e264a844-fc7d-401d-8ebd-279b6b8fe3a6",
   "metadata": {},
   "source": [
    "**2.Check whether a number is composite or not.**"
   ]
  },
  {
   "cell_type": "code",
   "execution_count": 1,
   "id": "bf9bb982-a113-4997-9980-c7df01c2f4c6",
   "metadata": {},
   "outputs": [
    {
     "name": "stdout",
     "output_type": "stream",
     "text": [
      "The 6 is composite number\n"
     ]
    }
   ],
   "source": [
    "def check_composite(n):\n",
    "    if n < 2:    # If the number is less than 2, it's not composite\n",
    "        return False\n",
    "    # Check if the number is divisible by any number from 2 to n-1\n",
    "    for i in range(2, n):\n",
    "        # If it's divisible, it's composite\n",
    "        if n % i == 0:\n",
    "            return True\n",
    "    # If no divisors are found, it's not composite\n",
    "    return False\n",
    "num=6\n",
    "if check_composite(num):\n",
    "    print(f\"The {num} is composite number\")\n",
    "else:\n",
    "    print(f\"The {num} is not composite number\")\n",
    "# num=6\n",
    "# 6 < 2 condition is false\n",
    "# 6%2=0 then true this is composite number"
   ]
  },
  {
   "cell_type": "markdown",
   "id": "72c4eda5-564e-4aad-9b93-f31a4fdcc99f",
   "metadata": {},
   "source": [
    "**3.Find the face value of given number.**"
   ]
  },
  {
   "cell_type": "code",
   "execution_count": 19,
   "id": "fc3537cb-0d8e-4445-834f-e83a3382030c",
   "metadata": {},
   "outputs": [
    {
     "name": "stdin",
     "output_type": "stream",
     "text": [
      "Enter a number:  432\n",
      "Enter a digit:  4\n"
     ]
    },
    {
     "name": "stdout",
     "output_type": "stream",
     "text": [
      "Face value of 4 is 4\n"
     ]
    }
   ],
   "source": [
    "num = int(input(\"Enter a number: \")) # take number from user\n",
    "digit = int(input(\"Enter a digit: \")) # take digit to find face value\n",
    "convert_str = str(num) # it convert the digit into the string\n",
    "\n",
    "if str(digit) in convert_str: # check digit is found in number print that face value otherwise it will return digit not found\n",
    "    print(\"Face value of\", digit, \"is\", digit)\n",
    "else:\n",
    "    print(\"Digit not found in the number\")\n"
   ]
  },
  {
   "cell_type": "markdown",
   "id": "bb02ff1b-78bb-4a5e-9ba3-3f1a7c824b8b",
   "metadata": {},
   "source": [
    "**3.Find the total sum of  whole number  given by user.**"
   ]
  },
  {
   "cell_type": "code",
   "execution_count": 33,
   "id": "b40257a0-e91b-4719-9843-3739696a3f63",
   "metadata": {},
   "outputs": [
    {
     "name": "stdin",
     "output_type": "stream",
     "text": [
      "Enter the number: 5\n"
     ]
    },
    {
     "name": "stdout",
     "output_type": "stream",
     "text": [
      "The sum of whole number is 15\n"
     ]
    }
   ],
   "source": [
    "n=int(input(\"Enter the number:\"))\n",
    "#Total = n * (n + 1) // 2  # to find the sum of whole number\n",
    "#print(f\"The Sum of {n} whole number is:\",Total) \n",
    "# n=5 (0,1,2,3,4,5)\n",
    "#0+1=5,1+4=5,2+3=5 total=15\n",
    "total=0\n",
    "for i in range(0,n + 1): # define the range start from 1  upto number which we provide.\n",
    "    total +=i  # add number \n",
    "print(\"The sum of whole number is\",total)"
   ]
  },
  {
   "cell_type": "markdown",
   "id": "ad5f1ec8-83b4-43d8-97b0-9f14e368a929",
   "metadata": {},
   "source": [
    "**4.sum of Natural number.**"
   ]
  },
  {
   "cell_type": "code",
   "execution_count": 31,
   "id": "836ff722-fa4c-460d-89ed-2eec9d95dca7",
   "metadata": {},
   "outputs": [
    {
     "name": "stdin",
     "output_type": "stream",
     "text": [
      "Enter a number: 10\n"
     ]
    },
    {
     "name": "stdout",
     "output_type": "stream",
     "text": [
      "the sum of natural number is 55\n"
     ]
    }
   ],
   "source": [
    "number=int(input(\"Enter a number:\")) # take input from user\n",
    "sum=0  # intial  sum is 0\n",
    "for i in range(1,number + 1): # define the range start from 1  upto number which we provide.\n",
    "    sum +=i  # add number \n",
    " \n",
    "print(\"The sum of natural number is\",sum)"
   ]
  },
  {
   "cell_type": "markdown",
   "id": "b383e91d-53f7-426c-b21f-5165eeab76fd",
   "metadata": {},
   "source": [
    "**5.check the number is divisible by 2 and 6.**"
   ]
  },
  {
   "cell_type": "code",
   "execution_count": 40,
   "id": "f670bd7e-c89b-4602-b137-7bbfd9cf0054",
   "metadata": {},
   "outputs": [
    {
     "name": "stdin",
     "output_type": "stream",
     "text": [
      "Enter the number: 12\n"
     ]
    },
    {
     "name": "stdout",
     "output_type": "stream",
     "text": [
      "The 12 is divisible by both 2 and 6 \n"
     ]
    }
   ],
   "source": [
    "n=int(input(\"Enter the number:\"))\n",
    "if n % 2 == 0 and n % 6 == 0:\n",
    "    print(f\"The {n} is divisible by both 2 and 6 \")\n",
    "else:\n",
    "    print(\"Enter correct number\")"
   ]
  },
  {
   "cell_type": "markdown",
   "id": "5bb7c293-3ebb-415f-bb5a-2b0058ca30ff",
   "metadata": {},
   "source": [
    "**6.Find the three digit greatest number which is divisible by 4.**"
   ]
  },
  {
   "cell_type": "code",
   "execution_count": 44,
   "id": "863fa16c-12e6-43d0-a1c3-86a41848074e",
   "metadata": {},
   "outputs": [
    {
     "name": "stdin",
     "output_type": "stream",
     "text": [
      "Enter a number:  654\n"
     ]
    },
    {
     "name": "stdout",
     "output_type": "stream",
     "text": [
      "Greatest number divisible by 4: 652\n"
     ]
    }
   ],
   "source": [
    "n = int(input(\"Enter a number: \"))\n",
    "greatest_num = n - (n % 4) # it will find the greatest 3 digit number divisible by 4\n",
    "print(\"Greatest number divisible by 4:\",greatest_num )"
   ]
  },
  {
   "cell_type": "markdown",
   "id": "5f4f6c64-f872-4276-a4f9-685b9f61ba5b",
   "metadata": {},
   "source": [
    "**7.check the given number is prime or not.**"
   ]
  },
  {
   "cell_type": "code",
   "execution_count": 2,
   "id": "d86bf1f8-4368-449f-87a0-c6630003fad2",
   "metadata": {},
   "outputs": [
    {
     "name": "stdin",
     "output_type": "stream",
     "text": [
      "Enter number: 4\n"
     ]
    },
    {
     "name": "stdout",
     "output_type": "stream",
     "text": [
      "4 is not prime number\n"
     ]
    }
   ],
   "source": [
    "num=int(input(\"Enter number:\")) # take input form user\n",
    "count=0   # count initialized to 0\n",
    "for i in range(1,num+1):   # it start form 1 to num\n",
    "    if num % i==0:\n",
    "        count=count +1 # if it is divisible by i the count is increase\n",
    "if count == 2: \n",
    "    print(num,\"is prime number\")\n",
    "else:\n",
    "    print(num,\"is not prime number\")"
   ]
  },
  {
   "cell_type": "markdown",
   "id": "9cb6c20f-1d32-4350-8715-7da6a14e985c",
   "metadata": {},
   "source": [
    "**8.calculate the HCF (highest common factor) given by user.**"
   ]
  },
  {
   "cell_type": "code",
   "execution_count": 7,
   "id": "46ef2340-27c0-4ffb-88b9-e02168c2a371",
   "metadata": {},
   "outputs": [
    {
     "name": "stdin",
     "output_type": "stream",
     "text": [
      "enter the first number : 6\n",
      "enter the second number: 12\n"
     ]
    },
    {
     "name": "stdout",
     "output_type": "stream",
     "text": [
      "HCF of 6 and 12 is 6\n"
     ]
    }
   ],
   "source": [
    "num1=int(input(\"enter the first number :\"))\n",
    "num2=int(input(\"enter the second number:\"))\n",
    "x=num1\n",
    "y=num2\n",
    "while num1 != num2: # the loop iterate until both number are equal \n",
    "    if num1 > num2: # check num1 is greater than num2 \n",
    "        num1 -= num2 # then it  subtract it from num2 and strore in num1\n",
    "    else:\n",
    "        num2 -= num1 # other wise it subtract the num1 and strore in num2\n",
    "print(\"HCF of\",x,\"and\",y,\"is\",num1)\n",
    "\n",
    "# 1. num1 = 6 and num2 = 12\n",
    "#2. num1 > num2, false so num2 = 12 - 6 = 6\n",
    "# 3. Now num1 == num2"
   ]
  },
  {
   "cell_type": "markdown",
   "id": "7e25ee44-f6c1-4b75-b140-525ad3f67561",
   "metadata": {},
   "source": [
    "**9.Find the LCM(least common multiple) of given number.**"
   ]
  },
  {
   "cell_type": "markdown",
   "id": "fc40b414-397b-461a-bfe1-ef927ea1b62b",
   "metadata": {},
   "source": [
    "**10.find the co-prime(the HCF is always 1) of given number.**"
   ]
  },
  {
   "cell_type": "code",
   "execution_count": 7,
   "id": "d6dcf5ca-dc33-48b3-a632-8f64f957849d",
   "metadata": {},
   "outputs": [
    {
     "name": "stdin",
     "output_type": "stream",
     "text": [
      "Enter the first number:  3\n",
      "Enter the second number:  2\n"
     ]
    },
    {
     "name": "stdout",
     "output_type": "stream",
     "text": [
      "3 and 2 are co-prime numbers.\n"
     ]
    }
   ],
   "source": [
    "n1 = int(input(\"Enter the first number: \")) # take input from user\n",
    "n2 = int(input(\"Enter the second number: \"))\n",
    "\n",
    "a=n1 # strore that numbers in another variable\n",
    "b=n2\n",
    "while b:  # check b is not 0 swap the values of a,b and b is updated to be the remainder of a divided by b \n",
    "    a,b=b,a%b   # loop iterate until b become a 0\n",
    "\n",
    "if a == 1:  # if hcf is 1 then it is co-prime number\n",
    "    print(n1, \"and\", n2, \"are co-prime numbers.\")\n",
    "else:\n",
    "    print(n1, \"and\", n2, \"are not co-prime numbers.\")\n",
    "\n",
    "# a=3 and b=2 (b !=0)\n",
    "# then swap value a=2 and b=3 (3%2=1)\n",
    "#a = 1 (becomes b)\n",
    "# b = 2 % 1 = 0 now b is 0 and hcf is 1 this is co-prime"
   ]
  },
  {
   "cell_type": "markdown",
   "id": "b304d3fc-063b-4003-b4ad-dab3390612c0",
   "metadata": {},
   "source": [
    "**11.Addition  and subtraction of decimal fraction number.**"
   ]
  },
  {
   "cell_type": "code",
   "execution_count": 22,
   "id": "afcd043f-bc1c-4efc-9b6f-f8196b68c6e3",
   "metadata": {},
   "outputs": [
    {
     "name": "stdin",
     "output_type": "stream",
     "text": [
      "Enter the first decimal number:  65.87\n",
      "Enter the second decimal number:  53.77\n"
     ]
    },
    {
     "name": "stdout",
     "output_type": "stream",
     "text": [
      "The sum of65.87 and 53.77 is: 119.64000000000001\n"
     ]
    },
    {
     "name": "stdin",
     "output_type": "stream",
     "text": [
      "Enter the first decimal number:  50.64\n",
      "Enter the second decimal number:  353.6\n"
     ]
    },
    {
     "name": "stdout",
     "output_type": "stream",
     "text": [
      "The subtraction of50.64 and 353.6 is: 12.100000000000001\n"
     ]
    }
   ],
   "source": [
    "# Addition of decimal fraction\n",
    "num1 = float(input(\"Enter the first decimal number: \"))\n",
    "num2 = float(input(\"Enter the second decimal number: \"))\n",
    "\n",
    "sum = num1 + num2\n",
    "print(f\"The sum of {num1} and {num2} is:\", sum)\n",
    "\n",
    "# subtraction of decimal fraction\n",
    "n1 = float(input(\"Enter the first decimal number: \"))\n",
    "n2 = float(input(\"Enter the second decimal number: \"))\n",
    "\n",
    "sub = num1 - num2\n",
    "print(f\"The subtraction of{n1} and {n2} is:\", sub)\n",
    "\n"
   ]
  },
  {
   "cell_type": "markdown",
   "id": "ccdc5a01-9864-4499-8253-b7e34a9b3623",
   "metadata": {},
   "source": [
    "**12.Multiplication of a Decimal Fraction By a Power of 10**"
   ]
  },
  {
   "cell_type": "code",
   "execution_count": 34,
   "id": "ab93fd7d-8450-4818-b029-d3c7697b6819",
   "metadata": {},
   "outputs": [
    {
     "name": "stdin",
     "output_type": "stream",
     "text": [
      "Enter a decimal number:  4.25\n"
     ]
    },
    {
     "name": "stdout",
     "output_type": "stream",
     "text": [
      "The result is: 42.5\n"
     ]
    }
   ],
   "source": [
    "num = float(input(\"Enter a decimal number: \"))\n",
    "power=10 # initialize power is 10\n",
    "result = num * power\n",
    "print(\"The result is:\", result)"
   ]
  },
  {
   "cell_type": "markdown",
   "id": "c6b4207c-ccd1-4fca-9b83-8a22d7b24173",
   "metadata": {},
   "source": [
    "**13.Find the quotient of the given number.**"
   ]
  },
  {
   "cell_type": "code",
   "execution_count": 49,
   "id": "68869748-a6cd-4063-ba1f-eb9e9ebd1a20",
   "metadata": {},
   "outputs": [
    {
     "name": "stdin",
     "output_type": "stream",
     "text": [
      "Enter the dividend number: 45\n",
      "Enter the Divisior: 3\n"
     ]
    },
    {
     "name": "stdout",
     "output_type": "stream",
     "text": [
      "The Quotient is: 15\n"
     ]
    },
    {
     "name": "stdin",
     "output_type": "stream",
     "text": [
      "Enter the dividend number: 67\n",
      "Enter the Divisior: 4\n"
     ]
    },
    {
     "name": "stdout",
     "output_type": "stream",
     "text": [
      "The Quotient is: 16.75\n"
     ]
    }
   ],
   "source": [
    "dividend=int(input(\"Enter the dividend number:\"))\n",
    "divisior=int(input(\"Enter the Divisior:\"))\n",
    "quotient= dividend // divisior  # it get integer value\n",
    "print(\"The Quotient is:\",quotient)\n",
    "\n",
    "# for float \n",
    "dividend=int(input(\"Enter the dividend number:\"))\n",
    "divisior=int(input(\"Enter the Divisior:\"))\n",
    "quotient1= dividend / divisior  # it get integer value\n",
    "print(\"The Quotient is:\",quotient1)"
   ]
  },
  {
   "cell_type": "markdown",
   "id": "479818d2-3cb2-48a3-ab5f-15d607ce71d1",
   "metadata": {},
   "source": [
    "**14.Find the factor of given number.**"
   ]
  },
  {
   "cell_type": "code",
   "execution_count": 10,
   "id": "16102383-161b-4517-b51f-bfb51f1188e5",
   "metadata": {},
   "outputs": [
    {
     "name": "stdin",
     "output_type": "stream",
     "text": [
      "Enter a number:  45\n"
     ]
    },
    {
     "name": "stdout",
     "output_type": "stream",
     "text": [
      "Factors of 45 are: [1, 3, 5, 9, 15, 45]\n"
     ]
    }
   ],
   "source": [
    "n = int(input(\"Enter a number: \")) # take input from user\n",
    "factor= [] # create empty list\n",
    "for i in range(1, n + 1): # take range from 1 to given numbre\n",
    "    if n % i == 0: # if it is n%i ==0 then add this number into the list\n",
    "        factor.append(i)\n",
    "print(\"Factors of\", n, \"are:\", factor)"
   ]
  },
  {
   "cell_type": "markdown",
   "id": "f4c3c0f8-11bf-4bcf-971d-e52b5e7c40e8",
   "metadata": {},
   "source": [
    "**15.Find the number between given by user which is divisible by 4 or 10.**"
   ]
  },
  {
   "cell_type": "code",
   "execution_count": 22,
   "id": "a67102fe-49b8-445d-9ce4-4d7aaa795927",
   "metadata": {},
   "outputs": [
    {
     "name": "stdin",
     "output_type": "stream",
     "text": [
      "Enter the start number:  11\n",
      "Enter the end number:  20\n"
     ]
    },
    {
     "name": "stdout",
     "output_type": "stream",
     "text": [
      "Numbers between 11 and 20 divisible by 4 and 10 are:\n",
      "12\n",
      "16\n",
      "20\n"
     ]
    },
    {
     "name": "stdin",
     "output_type": "stream",
     "text": [
      "Enter the start number:  11\n",
      "Enter the end number:  20\n"
     ]
    },
    {
     "name": "stdout",
     "output_type": "stream",
     "text": [
      "Numbers between 11 and 20 divisible by 4 and 10 are:\n",
      "20\n"
     ]
    }
   ],
   "source": [
    "start = int(input(\"Enter the start number: \"))\n",
    "end = int(input(\"Enter the end number: \"))\n",
    "\n",
    "print(\"Numbers between\", start, \"and\", end, \"divisible by 4 or 10 are:\") \n",
    "for i in range(start, end + 1):\n",
    "    if i % 4 == 0 or i % 10 == 0:\n",
    "        print(i)\n",
    "\n",
    "\n",
    "n1 = int(input(\"Enter the start number: \"))\n",
    "n2 = int(input(\"Enter the end number: \"))\n",
    "\n",
    "print(\"Numbers between\", n1, \"and\", n2, \"divisible by 4 and 10 are:\") \n",
    "for num in range(n1, n2 + 1):\n",
    "    if num % 4 == 0 and num % 10 == 0:\n",
    "        print(num)"
   ]
  },
  {
   "cell_type": "markdown",
   "id": "d3734d89-f3d9-4ca4-8dec-39666b694355",
   "metadata": {},
   "source": [
    "**16.Write a program for Rational number.**"
   ]
  },
  {
   "cell_type": "code",
   "execution_count": 27,
   "id": "655b7192-9437-4575-97ab-f4f4189a8bea",
   "metadata": {},
   "outputs": [
    {
     "name": "stdout",
     "output_type": "stream",
     "text": [
      "Rational number: 10/3\n",
      "Decimal value: 3.3333333333333335\n"
     ]
    }
   ],
   "source": [
    "# Rational number denominator are not 0\n",
    "numerator = 10\n",
    "denominator = 3\n",
    "rational_number = f\"{numerator}/{denominator}\"\n",
    "decimal_value = numerator / denominator\n",
    "\n",
    "print(\"Rational number:\", rational_number)\n",
    "print(\"Decimal value:\", decimal_value)\n"
   ]
  },
  {
   "cell_type": "markdown",
   "id": "9b7b36a7-8c96-4d7d-bd6c-867ca350b8d0",
   "metadata": {},
   "source": [
    "**17.How to find the modulus (negative value convert to positive) of real number.**"
   ]
  },
  {
   "cell_type": "code",
   "execution_count": 4,
   "id": "88547bed-6983-48ea-a1e9-d917a5b3e800",
   "metadata": {},
   "outputs": [
    {
     "name": "stdin",
     "output_type": "stream",
     "text": [
      "Enter a number: -58.46\n"
     ]
    },
    {
     "name": "stdout",
     "output_type": "stream",
     "text": [
      "Modulus of -58.46 is: 58.46\n"
     ]
    }
   ],
   "source": [
    "num=float(input(\"Enter a number:\"))\n",
    "modulus=abs(num) # abs is convert negative  number to positive\n",
    "print(f\"Modulus of {num} is:\",modulus)\n"
   ]
  },
  {
   "cell_type": "markdown",
   "id": "fd22adea-5647-456b-85da-5b8447d201ae",
   "metadata": {},
   "source": [
    "**18.Let A={1,2,3,4,5} and B={4,5,6,7} find the common element  in this sets.**"
   ]
  },
  {
   "cell_type": "code",
   "execution_count": 6,
   "id": "9bdf24cf-f6d4-42bb-81ca-ff7c37e88d69",
   "metadata": {},
   "outputs": [
    {
     "name": "stdout",
     "output_type": "stream",
     "text": [
      "Intersect element is: {4, 5}\n",
      "Union set is: {1, 2, 3, 4, 5, 6, 7}\n"
     ]
    }
   ],
   "source": [
    "A={1,2,3,4,5}\n",
    "B={4,5,6,7}\n",
    "intersection=A.intersection(B) # It find the common element in both sets\n",
    "print(\"Intersect element is:\",intersection)\n",
    "\n",
    "# To combined the set\n",
    "Union=A.union(B)\n",
    "print(\"Union set is:\",Union)"
   ]
  },
  {
   "cell_type": "markdown",
   "id": "1c31a68d-ab83-4aa0-9018-604afbb55487",
   "metadata": {},
   "source": [
    "**19.Take two sets from user and use this set property  n(A – B) + n(A ∩ B) = n(A) and find the total number of elemnet of set A.**"
   ]
  },
  {
   "cell_type": "code",
   "execution_count": 13,
   "id": "c0bee087-06ca-439f-9692-1baf0079a319",
   "metadata": {},
   "outputs": [
    {
     "name": "stdin",
     "output_type": "stream",
     "text": [
      "Enter first set elements (comma-separated):  1,2,3,4,5,6\n",
      "Enter second set elements (comma-separated):  6,7,8,9,10,11\n"
     ]
    },
    {
     "name": "stdout",
     "output_type": "stream",
     "text": [
      "The different element is: {1, 2, 3, 4, 5}\n",
      "The common element is: {6}\n",
      "n(A - B) = 5\n",
      "n(A ∩ B) = 1\n",
      "n(A) = 6\n",
      "Then formula verified\n"
     ]
    }
   ],
   "source": [
    "A = set(map(int, input(\"Enter first set elements (comma-separated): \").split(',')))\n",
    "B = set(map(int, input(\"Enter second set elements (comma-separated): \").split(',')))\n",
    "\n",
    "# n(A – B) is the number of elements that are in set A but not in set B.\n",
    "x=A - B\n",
    "print(\"The different element is:\",x)\n",
    "\n",
    "# find n(A ∩ B) common element in set\n",
    "intersection=A.intersection(B)\n",
    "print(\"The common element is:\",intersection)\n",
    "\n",
    "# use n(A – B) + n(A ∩ B) = n(A) formula\n",
    "n_A_min_B=len(x)\n",
    "n_A_inter_B=len(intersection)\n",
    "n_A=len(A)\n",
    "\n",
    "print(\"n(A - B) =\", n_A_min_B)\n",
    "print(\"n(A ∩ B) =\", n_A_inter_B)\n",
    "print(\"n(A) =\", n_A)\n",
    "\n",
    "if n_A_min_B + n_A_inter_B == n_A:\n",
    "    print(\"Then formula verified\")\n",
    "else:\n",
    "    print(\"Not verified:\")\n"
   ]
  },
  {
   "cell_type": "markdown",
   "id": "a4149291-6130-42df-9c1e-ee3d94de40cc",
   "metadata": {},
   "source": [
    "**20.Find the square root of given number.**"
   ]
  },
  {
   "cell_type": "code",
   "execution_count": 16,
   "id": "719064fd-bc18-4c39-9d08-4f8128cc140f",
   "metadata": {},
   "outputs": [
    {
     "name": "stdin",
     "output_type": "stream",
     "text": [
      "Enter a number:  9\n"
     ]
    },
    {
     "name": "stdout",
     "output_type": "stream",
     "text": [
      "Square root of 9 = 3.0\n"
     ]
    }
   ],
   "source": [
    "n= int(input(\"Enter a number: \"))\n",
    "sqrt_root = n ** 0.5 # formula for to find square root\n",
    "print(\"Square root of\", n, \"=\", sqrt_root)\n"
   ]
  },
  {
   "cell_type": "markdown",
   "id": "dd8bf3d8-da5e-472e-b942-e8f7af6b0e35",
   "metadata": {},
   "source": [
    "**21.Find cube root of given number.**"
   ]
  },
  {
   "cell_type": "code",
   "execution_count": 19,
   "id": "71e7b97e-7bf4-4c84-8405-e48e16487dbe",
   "metadata": {},
   "outputs": [
    {
     "name": "stdin",
     "output_type": "stream",
     "text": [
      "Enter a number:  81\n"
     ]
    },
    {
     "name": "stdout",
     "output_type": "stream",
     "text": [
      "Cube root of 81 = 4.3267487109222245\n"
     ]
    }
   ],
   "source": [
    "num= int(input(\"Enter a number: \"))\n",
    "cube_root = num ** (1/3) # formula for to find cube root\n",
    "print(\"Cube root of\", num, \"=\", cube_root)"
   ]
  },
  {
   "cell_type": "markdown",
   "id": "2d9f5a07-6b74-41dc-badd-925f533410d2",
   "metadata": {},
   "source": [
    "**22.Calculate Average of number.**"
   ]
  },
  {
   "cell_type": "code",
   "execution_count": 23,
   "id": "ec0f8e05-5732-4703-94c3-04d7dbcf1c08",
   "metadata": {},
   "outputs": [
    {
     "name": "stdout",
     "output_type": "stream",
     "text": [
      "Sum is: 203\n",
      "length of A: 6\n",
      "The total Average is: 33.833333333333336\n"
     ]
    }
   ],
   "source": [
    "A=10,20,30,45,78,20\n",
    "x=10  # store values in another varibale\n",
    "y=20 \n",
    "z=30\n",
    "a=45\n",
    "b=78\n",
    "d=20\n",
    "sum_A=x+y+z+a+b+d  # to find total  sum of all element\n",
    "print(\"Sum is:\",sum_A)\n",
    "\n",
    "# To find total number of element\n",
    "le=len(A)\n",
    "print(\"length of A:\",le)\n",
    "\n",
    "# To find average\n",
    "Avg=sum_A / le\n",
    "print(\"The total Average is:\",Avg)"
   ]
  },
  {
   "cell_type": "code",
   "execution_count": null,
   "id": "6b760043-d3d8-43cd-af5b-f3e542fda0a4",
   "metadata": {},
   "outputs": [],
   "source": []
  }
 ],
 "metadata": {
  "kernelspec": {
   "display_name": "Python [conda env:base] *",
   "language": "python",
   "name": "conda-base-py"
  },
  "language_info": {
   "codemirror_mode": {
    "name": "ipython",
    "version": 3
   },
   "file_extension": ".py",
   "mimetype": "text/x-python",
   "name": "python",
   "nbconvert_exporter": "python",
   "pygments_lexer": "ipython3",
   "version": "3.12.7"
  }
 },
 "nbformat": 4,
 "nbformat_minor": 5
}
